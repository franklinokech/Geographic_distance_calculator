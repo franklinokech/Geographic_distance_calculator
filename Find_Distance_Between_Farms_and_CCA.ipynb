{
  "nbformat": 4,
  "nbformat_minor": 0,
  "metadata": {
    "colab": {
      "name": "Find Distance Between Farms and CCA.ipynb",
      "provenance": [],
      "authorship_tag": "ABX9TyNTzqzbnfATg80No8FKD1wi",
      "include_colab_link": true
    },
    "kernelspec": {
      "name": "python3",
      "display_name": "Python 3"
    }
  },
  "cells": [
    {
      "cell_type": "markdown",
      "metadata": {
        "id": "view-in-github",
        "colab_type": "text"
      },
      "source": [
        "<a href=\"https://colab.research.google.com/github/franklinokech/Geographic_distance_calculator/blob/master/Find_Distance_Between_Farms_and_CCA.ipynb\" target=\"_parent\"><img src=\"https://colab.research.google.com/assets/colab-badge.svg\" alt=\"Open In Colab\"/></a>"
      ]
    },
    {
      "cell_type": "code",
      "metadata": {
        "id": "KxuTkO-Ggj9U",
        "colab_type": "code",
        "colab": {}
      },
      "source": [
        "# import key libraries\n",
        "import pandas as pd\n",
        "import numpy as np\n",
        "import sklearn.neighbors"
      ],
      "execution_count": 27,
      "outputs": []
    },
    {
      "cell_type": "code",
      "metadata": {
        "id": "JygWkFUqiU1S",
        "colab_type": "code",
        "colab": {}
      },
      "source": [
        "# Import Libraries for connecting to Google drive\n",
        "!pip install  -q gspread"
      ],
      "execution_count": 28,
      "outputs": []
    },
    {
      "cell_type": "code",
      "metadata": {
        "id": "BXgbz2d8iXhJ",
        "colab_type": "code",
        "colab": {}
      },
      "source": [
        "# Authenticate to Google drive and get the required dataset\n",
        "from google.colab import auth\n",
        "auth.authenticate_user()\n",
        "\n",
        "import gspread\n",
        "from oauth2client.client import GoogleCredentials\n",
        "\n",
        "gc = gspread.authorize(GoogleCredentials.get_application_default())"
      ],
      "execution_count": 29,
      "outputs": []
    },
    {
      "cell_type": "code",
      "metadata": {
        "id": "HqeyJv3RgtPj",
        "colab_type": "code",
        "colab": {}
      },
      "source": [
        "# Import SSOT\n",
        "# Get the google sheet file for jaribuni\n",
        "sh = gc.open('SSOT Shamba Person_MASTER')\n",
        "# Select Spreadsheet\n",
        "# By title\n",
        "worksheet = sh.worksheet('Shamba')\n",
        "data = worksheet.get_all_values()\n",
        "headers = data.pop(0)\n",
        "\n",
        "df = pd.DataFrame(data, columns=headers)\n",
        "\n",
        "# Preview dataframe"
      ],
      "execution_count": 30,
      "outputs": []
    },
    {
      "cell_type": "code",
      "metadata": {
        "id": "Z5i6DHdAiOPq",
        "colab_type": "code",
        "colab": {}
      },
      "source": [
        "df = df[['kcode', 'latitude', 'longitude']]\n",
        "\n"
      ],
      "execution_count": 31,
      "outputs": []
    },
    {
      "cell_type": "code",
      "metadata": {
        "id": "8IA3rmCOjNd9",
        "colab_type": "code",
        "colab": {}
      },
      "source": [
        "# convert to correct datatypes\n",
        "df.latitude = pd.to_numeric(df.latitude)\n",
        "df.longitude = pd.to_numeric(df.longitude)\n",
        "\n"
      ],
      "execution_count": 32,
      "outputs": []
    },
    {
      "cell_type": "code",
      "metadata": {
        "id": "yPZBkno5jd_w",
        "colab_type": "code",
        "colab": {}
      },
      "source": [
        "# Import SSOT\n",
        "# Get the google sheet file for jaribuni\n",
        "sh = gc.open('komaza gps cordinates')\n",
        "# Select Spreadsheet\n",
        "# By title\n",
        "worksheet = sh.worksheet('data')\n",
        "data = worksheet.get_all_values()\n",
        "headers = data.pop(0)\n",
        "\n",
        "df_2 = pd.DataFrame(data, columns=headers)\n",
        "\n",
        "# Preview dataframe\n"
      ],
      "execution_count": 33,
      "outputs": []
    },
    {
      "cell_type": "code",
      "metadata": {
        "id": "ARvtP7_YjzwU",
        "colab_type": "code",
        "colab": {}
      },
      "source": [
        "df_2.drop(df_2.index[0], inplace=True)"
      ],
      "execution_count": 34,
      "outputs": []
    },
    {
      "cell_type": "code",
      "metadata": {
        "id": "cEsynrHQkM_e",
        "colab_type": "code",
        "colab": {}
      },
      "source": [
        "df_2.drop(['point', 'routeXL'], axis=1, inplace=True)"
      ],
      "execution_count": 35,
      "outputs": []
    },
    {
      "cell_type": "code",
      "metadata": {
        "id": "LxrWexOfkkKi",
        "colab_type": "code",
        "colab": {}
      },
      "source": [
        "cols_to_rename = {\n",
        "    'lat': 'latitude',\n",
        "    'lon': 'longitude'\n",
        "}\n",
        "\n",
        "df_2.rename(columns=cols_to_rename, inplace=True)"
      ],
      "execution_count": 36,
      "outputs": []
    },
    {
      "cell_type": "code",
      "metadata": {
        "id": "st9ywrIfk0GC",
        "colab_type": "code",
        "colab": {}
      },
      "source": [
        "df_2.latitude = pd.to_numeric(df_2.latitude)\n",
        "df_2.longitude = pd.to_numeric(df_2.longitude)"
      ],
      "execution_count": 37,
      "outputs": []
    },
    {
      "cell_type": "code",
      "metadata": {
        "id": "tLi3hF3wk9sT",
        "colab_type": "code",
        "colab": {}
      },
      "source": [
        "# add columns with radians for latitude and longitude\n",
        "df[['latitude_rad','longitude_rad']] = (\n",
        "    np.radians(df.loc[:,['latitude','longitude']])\n",
        ")\n",
        "df_2[['latitude_rad','longitude_rad']] = (\n",
        "    np.radians(df_2.loc[:,['latitude','longitude']])\n",
        ")"
      ],
      "execution_count": 38,
      "outputs": []
    },
    {
      "cell_type": "code",
      "metadata": {
        "id": "ixQ0Um6clf_a",
        "colab_type": "code",
        "colab": {}
      },
      "source": [
        "dist = sklearn.neighbors.DistanceMetric.get_metric('haversine')\n",
        "dist_matrix = (dist.pairwise\n",
        "    (df[['latitude_rad','longitude_rad']],\n",
        "     df_2[['latitude_rad','longitude_rad']])*6371\n",
        ")\n",
        "# Note that 6371 is the radius of the earth in km\n",
        "df_dist_matrix = (\n",
        "    pd.DataFrame(dist_matrix,index=df['kcode'], \n",
        "                 columns=df_2['name'])\n",
        ")"
      ],
      "execution_count": 39,
      "outputs": []
    },
    {
      "cell_type": "code",
      "metadata": {
        "id": "jMcinyXxmHzT",
        "colab_type": "code",
        "colab": {}
      },
      "source": [
        "# Unpivot this dataframe from wide format to long format.\n",
        "# When you unpivot, the data in the pivot table becomes a\n",
        "# column named 'value'. Rename this column to 'miles' for clarity.\n",
        "df_dist_long = (\n",
        "    pd.melt(df_dist_matrix.reset_index(),id_vars='kcode')\n",
        ")\n",
        "df_dist_long = df_dist_long.rename(columns={'value':'km'})"
      ],
      "execution_count": 41,
      "outputs": []
    },
    {
      "cell_type": "code",
      "metadata": {
        "id": "AyBRu-81mXZy",
        "colab_type": "code",
        "colab": {}
      },
      "source": [
        "from google.colab import auth\n",
        "from gspread_dataframe import get_as_dataframe, set_with_dataframe\n",
        "auth.authenticate_user()\n",
        "\n",
        "import gspread\n",
        "from oauth2client.client import GoogleCredentials\n",
        "gc = gspread.authorize(GoogleCredentials.get_application_default())\n",
        "\n",
        "\n",
        "\n",
        "# import gsheet with the data\n",
        "# Spreadsheet ID:1K5p6xrOy8t-v0vfYWDXm9WqIIgdaPtMNLoNjbXFhHk0\n",
        "\n",
        "sh = gc.open('ROUTING DISTANCE ESTIMATE')\n",
        "\n",
        "# Select Spreadsheet\n",
        "# By title\n",
        "worksheet = sh.worksheet('kcode_cca_distance')"
      ],
      "execution_count": 43,
      "outputs": []
    },
    {
      "cell_type": "code",
      "metadata": {
        "id": "RXkE0OyVn36U",
        "colab_type": "code",
        "colab": {}
      },
      "source": [
        "# Append Dataframe to Sheet\n",
        "set_with_dataframe(worksheet, df_dist_long)"
      ],
      "execution_count": 44,
      "outputs": []
    },
    {
      "cell_type": "code",
      "metadata": {
        "id": "LRe6JVh-n_T5",
        "colab_type": "code",
        "colab": {}
      },
      "source": [
        ""
      ],
      "execution_count": null,
      "outputs": []
    }
  ]
}