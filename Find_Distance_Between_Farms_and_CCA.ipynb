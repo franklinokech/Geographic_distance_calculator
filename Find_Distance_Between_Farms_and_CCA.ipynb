{
  "nbformat": 4,
  "nbformat_minor": 0,
  "metadata": {
    "colab": {
      "name": "Find Distance Between Farms and CCA.ipynb",
      "provenance": [],
      "authorship_tag": "ABX9TyMigbkOd13b3iDdh5yhaSMM",
      "include_colab_link": true
    },
    "kernelspec": {
      "name": "python3",
      "display_name": "Python 3"
    }
  },
  "cells": [
    {
      "cell_type": "markdown",
      "metadata": {
        "id": "view-in-github",
        "colab_type": "text"
      },
      "source": [
        "<a href=\"https://colab.research.google.com/github/franklinokech/Geographic_distance_calculator/blob/master/Find_Distance_Between_Farms_and_CCA.ipynb\" target=\"_parent\"><img src=\"https://colab.research.google.com/assets/colab-badge.svg\" alt=\"Open In Colab\"/></a>"
      ]
    },
    {
      "cell_type": "code",
      "metadata": {
        "id": "KxuTkO-Ggj9U",
        "colab_type": "code",
        "colab": {}
      },
      "source": [
        "# import key libraries\n",
        "import pandas as pd\n",
        "import numpy as np\n",
        "import sklearn.neighbors"
      ],
      "execution_count": 1,
      "outputs": []
    },
    {
      "cell_type": "code",
      "metadata": {
        "id": "JygWkFUqiU1S",
        "colab_type": "code",
        "colab": {}
      },
      "source": [
        "# Import Libraries for connecting to Google drive\n",
        "!pip install  -q gspread"
      ],
      "execution_count": 3,
      "outputs": []
    },
    {
      "cell_type": "code",
      "metadata": {
        "id": "BXgbz2d8iXhJ",
        "colab_type": "code",
        "colab": {}
      },
      "source": [
        "# Authenticate to Google drive and get the required dataset\n",
        "from google.colab import auth\n",
        "auth.authenticate_user()\n",
        "\n",
        "import gspread\n",
        "from oauth2client.client import GoogleCredentials\n",
        "\n",
        "gc = gspread.authorize(GoogleCredentials.get_application_default())"
      ],
      "execution_count": 4,
      "outputs": []
    },
    {
      "cell_type": "code",
      "metadata": {
        "id": "HqeyJv3RgtPj",
        "colab_type": "code",
        "colab": {
          "base_uri": "https://localhost:8080/",
          "height": 479
        },
        "outputId": "6c64c5af-94a2-43b8-b2ed-de20f5f61790"
      },
      "source": [
        "# Import SSOT\n",
        "# Get the google sheet file for jaribuni\n",
        "sh = gc.open('SSOT Shamba Person_MASTER')\n",
        "# Select Spreadsheet\n",
        "# By title\n",
        "worksheet = sh.worksheet('Shamba')\n",
        "data = worksheet.get_all_values()\n",
        "headers = data.pop(0)\n",
        "\n",
        "df = pd.DataFrame(data, columns=headers)\n",
        "\n",
        "# Preview dataframe\n",
        "df.head()"
      ],
      "execution_count": 5,
      "outputs": [
        {
          "output_type": "execute_result",
          "data": {
            "text/html": [
              "<div>\n",
              "<style scoped>\n",
              "    .dataframe tbody tr th:only-of-type {\n",
              "        vertical-align: middle;\n",
              "    }\n",
              "\n",
              "    .dataframe tbody tr th {\n",
              "        vertical-align: top;\n",
              "    }\n",
              "\n",
              "    .dataframe thead th {\n",
              "        text-align: right;\n",
              "    }\n",
              "</style>\n",
              "<table border=\"1\" class=\"dataframe\">\n",
              "  <thead>\n",
              "    <tr style=\"text-align: right;\">\n",
              "      <th></th>\n",
              "      <th>kcode</th>\n",
              "      <th>region_id</th>\n",
              "      <th>polygon_id</th>\n",
              "      <th>location_id</th>\n",
              "      <th>sublocation_id</th>\n",
              "      <th>zone_id</th>\n",
              "      <th>homestead_location</th>\n",
              "      <th>fa_assigned_id</th>\n",
              "      <th>fo_assigned_id</th>\n",
              "      <th>fm_assigned_id</th>\n",
              "      <th>veritas_id</th>\n",
              "      <th>latitude</th>\n",
              "      <th>longitude</th>\n",
              "      <th>geopoint</th>\n",
              "      <th>farmer_official_name</th>\n",
              "      <th>common_name</th>\n",
              "      <th>availability_id</th>\n",
              "      <th>official_type_id</th>\n",
              "      <th>farmer_id</th>\n",
              "      <th>gender</th>\n",
              "      <th>contact_method_id</th>\n",
              "      <th>farmer_phone_number</th>\n",
              "      <th>hist_farmer_id</th>\n",
              "      <th>hist_farmer_name</th>\n",
              "      <th>landowner_id</th>\n",
              "      <th>cosignee_id</th>\n",
              "      <th>caretaker_name</th>\n",
              "      <th>caretaker_phone_number</th>\n",
              "      <th>tree_species_id</th>\n",
              "      <th>suitability</th>\n",
              "      <th>suitability_melia</th>\n",
              "      <th>suitability_eucalyptus</th>\n",
              "      <th>planting_year_id</th>\n",
              "      <th>planting_season_id</th>\n",
              "      <th>area_m2</th>\n",
              "      <th>shamba_equivqlence_size</th>\n",
              "      <th>tree_spacing</th>\n",
              "      <th>seedlings_planted</th>\n",
              "      <th>seedlings_planted_melia</th>\n",
              "      <th>seedlings_planted_eucalyptus</th>\n",
              "      <th>last_audit_date</th>\n",
              "      <th>last_audit_alive_trees</th>\n",
              "      <th>last_audit_survived_trees</th>\n",
              "      <th>shamba_status</th>\n",
              "      <th>ownership_status</th>\n",
              "      <th>contract_status</th>\n",
              "      <th>slo_url</th>\n",
              "      <th>contract_url</th>\n",
              "      <th>uuid</th>\n",
              "      <th>SI_index_euc</th>\n",
              "      <th>tree_status</th>\n",
              "      <th>harvest_operation</th>\n",
              "      <th>farmerfollowup_check</th>\n",
              "    </tr>\n",
              "  </thead>\n",
              "  <tbody>\n",
              "    <tr>\n",
              "      <th>0</th>\n",
              "      <td>klf-2008-0001</td>\n",
              "      <td>kilifi</td>\n",
              "      <td>klf-2008-0001</td>\n",
              "      <td>Ngerenya</td>\n",
              "      <td>Ngerenya</td>\n",
              "      <td>zone-01-224</td>\n",
              "      <td></td>\n",
              "      <td>Janet Sidi Nguma</td>\n",
              "      <td>Michael Mtengo Mundu</td>\n",
              "      <td>Alfred Mwatsuma Kiti</td>\n",
              "      <td>gase7</td>\n",
              "      <td>-3.524255766</td>\n",
              "      <td>39.87817724</td>\n",
              "      <td>point ( -3.524255766 39.87817724 )</td>\n",
              "      <td>Esther Kai Mwatunje</td>\n",
              "      <td>Mama Bandari</td>\n",
              "      <td>available_on_farm</td>\n",
              "      <td>national_id</td>\n",
              "      <td>id_2147628</td>\n",
              "      <td>Female</td>\n",
              "      <td>farmer</td>\n",
              "      <td>714232488</td>\n",
              "      <td></td>\n",
              "      <td></td>\n",
              "      <td>id_2147628</td>\n",
              "      <td>id_2138432</td>\n",
              "      <td></td>\n",
              "      <td></td>\n",
              "      <td>Eucalyptus</td>\n",
              "      <td>very suitable</td>\n",
              "      <td></td>\n",
              "      <td>very suitable</td>\n",
              "      <td>2008</td>\n",
              "      <td>LR</td>\n",
              "      <td>2180</td>\n",
              "      <td>1.0</td>\n",
              "      <td>2.5x2.5</td>\n",
              "      <td>200</td>\n",
              "      <td></td>\n",
              "      <td>200</td>\n",
              "      <td>12-06-17 19:04</td>\n",
              "      <td>167</td>\n",
              "      <td>167</td>\n",
              "      <td>active</td>\n",
              "      <td></td>\n",
              "      <td></td>\n",
              "      <td>https://drive.google.com/open?id=1EjXIzpjYAVqn...</td>\n",
              "      <td>https://drive.google.com/open?id=1PuYE-Xzjq3Zi...</td>\n",
              "      <td>7397d896-bdaf-11e9-8473-631210d8f882</td>\n",
              "      <td>SI14</td>\n",
              "      <td></td>\n",
              "      <td></td>\n",
              "      <td></td>\n",
              "    </tr>\n",
              "    <tr>\n",
              "      <th>1</th>\n",
              "      <td>klf-2008-0002</td>\n",
              "      <td>kilifi</td>\n",
              "      <td>klf-2008-0002</td>\n",
              "      <td>Ngerenya</td>\n",
              "      <td>Ngerenya</td>\n",
              "      <td>zone-01-224</td>\n",
              "      <td></td>\n",
              "      <td>Janet Sidi Nguma</td>\n",
              "      <td>Michael Mtengo Mundu</td>\n",
              "      <td>Alfred Mwatsuma Kiti</td>\n",
              "      <td>gase8</td>\n",
              "      <td>-3.528535743</td>\n",
              "      <td>39.87702892</td>\n",
              "      <td>point ( -3.528535743 39.87702892 )</td>\n",
              "      <td>Pahe Kaingu Fondo</td>\n",
              "      <td>Mama Rehema</td>\n",
              "      <td>available_on_farm</td>\n",
              "      <td>national_id</td>\n",
              "      <td>id_9773938</td>\n",
              "      <td>Female</td>\n",
              "      <td>farmer</td>\n",
              "      <td>702374834</td>\n",
              "      <td></td>\n",
              "      <td></td>\n",
              "      <td>id_9773938</td>\n",
              "      <td>id_27052844</td>\n",
              "      <td></td>\n",
              "      <td></td>\n",
              "      <td>Eucalyptus</td>\n",
              "      <td>very suitable</td>\n",
              "      <td></td>\n",
              "      <td>very suitable</td>\n",
              "      <td>2008</td>\n",
              "      <td>LR</td>\n",
              "      <td>1530</td>\n",
              "      <td>1.0</td>\n",
              "      <td>2.5x2.5</td>\n",
              "      <td>200</td>\n",
              "      <td></td>\n",
              "      <td>200</td>\n",
              "      <td>12-06-17 19:05</td>\n",
              "      <td>148</td>\n",
              "      <td>148</td>\n",
              "      <td>active</td>\n",
              "      <td></td>\n",
              "      <td></td>\n",
              "      <td>https://drive.google.com/open?id=15MONI3UOAGrc...</td>\n",
              "      <td>https://drive.google.com/open?id=17xNJM-wnSU2G...</td>\n",
              "      <td>7397d897-bdaf-11e9-8473-631210d8f882</td>\n",
              "      <td>SI14</td>\n",
              "      <td></td>\n",
              "      <td></td>\n",
              "      <td></td>\n",
              "    </tr>\n",
              "    <tr>\n",
              "      <th>2</th>\n",
              "      <td>klf-2008-0003</td>\n",
              "      <td>kilifi</td>\n",
              "      <td>klf-2008-0003</td>\n",
              "      <td>Palakumi</td>\n",
              "      <td>Mariani/Vitsapuni</td>\n",
              "      <td>zone-01-208</td>\n",
              "      <td></td>\n",
              "      <td>James Katana Karisa</td>\n",
              "      <td>Daidas Mwachiti</td>\n",
              "      <td>Tyson Sangura Wanyama</td>\n",
              "      <td>emgr206</td>\n",
              "      <td>-3.569655033</td>\n",
              "      <td>39.64606282</td>\n",
              "      <td>point ( -3.569655033 39.64606282 )</td>\n",
              "      <td>Kahindi Kazungu Kasingihi</td>\n",
              "      <td>Kahindi Kazungu</td>\n",
              "      <td>available_near_farm</td>\n",
              "      <td>national_id</td>\n",
              "      <td>id_9112244</td>\n",
              "      <td>Male</td>\n",
              "      <td>farmer</td>\n",
              "      <td>701694431</td>\n",
              "      <td></td>\n",
              "      <td></td>\n",
              "      <td>id_9112244</td>\n",
              "      <td>id_11870882</td>\n",
              "      <td></td>\n",
              "      <td></td>\n",
              "      <td>Eucalyptus</td>\n",
              "      <td>not suitable</td>\n",
              "      <td></td>\n",
              "      <td>not suitable</td>\n",
              "      <td>2008</td>\n",
              "      <td>SR</td>\n",
              "      <td>190</td>\n",
              "      <td>1.0</td>\n",
              "      <td>2.5x2.5</td>\n",
              "      <td>200</td>\n",
              "      <td></td>\n",
              "      <td>200</td>\n",
              "      <td>01-08-17 20:20</td>\n",
              "      <td>30</td>\n",
              "      <td>40</td>\n",
              "      <td>active</td>\n",
              "      <td></td>\n",
              "      <td></td>\n",
              "      <td>https://drive.google.com/open?id=15bQ5W2MvZgqd...</td>\n",
              "      <td>https://drive.google.com/open?id=1E8v57fDm5-bK...</td>\n",
              "      <td>7397d898-bdaf-11e9-8473-631210d8f882</td>\n",
              "      <td>SI10</td>\n",
              "      <td></td>\n",
              "      <td></td>\n",
              "      <td></td>\n",
              "    </tr>\n",
              "    <tr>\n",
              "      <th>3</th>\n",
              "      <td>klf-2008-0004</td>\n",
              "      <td>kilifi</td>\n",
              "      <td>klf-2008-0004</td>\n",
              "      <td>Palakumi</td>\n",
              "      <td>Mariani/Vitsapuni</td>\n",
              "      <td>zone-01-128</td>\n",
              "      <td>kwa kiraga kaviha</td>\n",
              "      <td>Christine Nzai Kalisho</td>\n",
              "      <td>James Mwahunga Ngumo</td>\n",
              "      <td>Mathias Mwabaya Kalama</td>\n",
              "      <td>emgr467</td>\n",
              "      <td>-3.607335748</td>\n",
              "      <td>39.64600114</td>\n",
              "      <td>point ( -3.607335748 39.64600114 )</td>\n",
              "      <td>Kahaso Kiraga Kaviha</td>\n",
              "      <td>Mkaza Binzai</td>\n",
              "      <td>available_near_farm</td>\n",
              "      <td>national_id</td>\n",
              "      <td>id_31487899</td>\n",
              "      <td>Female</td>\n",
              "      <td>other_family_member</td>\n",
              "      <td>799474601</td>\n",
              "      <td></td>\n",
              "      <td></td>\n",
              "      <td>id_31487899</td>\n",
              "      <td>id_25205678</td>\n",
              "      <td></td>\n",
              "      <td></td>\n",
              "      <td>Eucalyptus</td>\n",
              "      <td>not suitable</td>\n",
              "      <td></td>\n",
              "      <td>not suitable</td>\n",
              "      <td>2008</td>\n",
              "      <td>SR</td>\n",
              "      <td>1190</td>\n",
              "      <td>1.0</td>\n",
              "      <td>2.5x2.5</td>\n",
              "      <td>200</td>\n",
              "      <td></td>\n",
              "      <td>200</td>\n",
              "      <td>05-12-17 22:00</td>\n",
              "      <td>74</td>\n",
              "      <td>158</td>\n",
              "      <td>active</td>\n",
              "      <td></td>\n",
              "      <td></td>\n",
              "      <td>https://drive.google.com/open?id=1IhlatEOLpM8g...</td>\n",
              "      <td>https://drive.google.com/open?id=1FjGwBZeeqOB_...</td>\n",
              "      <td>7397d899-bdaf-11e9-8473-631210d8f882</td>\n",
              "      <td>SI10</td>\n",
              "      <td></td>\n",
              "      <td></td>\n",
              "      <td></td>\n",
              "    </tr>\n",
              "    <tr>\n",
              "      <th>4</th>\n",
              "      <td>klf-2008-0005</td>\n",
              "      <td>kilifi</td>\n",
              "      <td>klf-2008-0005</td>\n",
              "      <td>Ngerenya</td>\n",
              "      <td>Ngerenya</td>\n",
              "      <td>zone-01-224</td>\n",
              "      <td></td>\n",
              "      <td>Janet Sidi Nguma</td>\n",
              "      <td>Michael Mtengo Mundu</td>\n",
              "      <td>Alfred Mwatsuma Kiti</td>\n",
              "      <td>gase4</td>\n",
              "      <td>-3.52362521</td>\n",
              "      <td>39.88113789</td>\n",
              "      <td>point ( -3.52362521 39.88113789 )</td>\n",
              "      <td>Joyce Dume Kadzenga</td>\n",
              "      <td>Mamake Maki</td>\n",
              "      <td>available_on_farm</td>\n",
              "      <td>national_id</td>\n",
              "      <td>id_13484471</td>\n",
              "      <td>Female</td>\n",
              "      <td>relative</td>\n",
              "      <td></td>\n",
              "      <td></td>\n",
              "      <td></td>\n",
              "      <td>id_13484471</td>\n",
              "      <td>id_8459829</td>\n",
              "      <td></td>\n",
              "      <td></td>\n",
              "      <td>Eucalyptus</td>\n",
              "      <td>very suitable</td>\n",
              "      <td></td>\n",
              "      <td>very suitable</td>\n",
              "      <td>2008</td>\n",
              "      <td>LR</td>\n",
              "      <td>1680</td>\n",
              "      <td>1.0</td>\n",
              "      <td>2.5x2.5</td>\n",
              "      <td>200</td>\n",
              "      <td></td>\n",
              "      <td>200</td>\n",
              "      <td>13-06-17 9:06</td>\n",
              "      <td>86</td>\n",
              "      <td>107</td>\n",
              "      <td>active</td>\n",
              "      <td></td>\n",
              "      <td></td>\n",
              "      <td>https://drive.google.com/open?id=14dTHaTSJXTj-...</td>\n",
              "      <td>https://drive.google.com/open?id=1AwSCni4601Rp...</td>\n",
              "      <td>7397d89a-bdaf-11e9-8473-631210d8f882</td>\n",
              "      <td>SI14</td>\n",
              "      <td></td>\n",
              "      <td></td>\n",
              "      <td></td>\n",
              "    </tr>\n",
              "  </tbody>\n",
              "</table>\n",
              "</div>"
            ],
            "text/plain": [
              "           kcode region_id  ... harvest_operation farmerfollowup_check\n",
              "0  klf-2008-0001    kilifi  ...                                       \n",
              "1  klf-2008-0002    kilifi  ...                                       \n",
              "2  klf-2008-0003    kilifi  ...                                       \n",
              "3  klf-2008-0004    kilifi  ...                                       \n",
              "4  klf-2008-0005    kilifi  ...                                       \n",
              "\n",
              "[5 rows x 53 columns]"
            ]
          },
          "metadata": {
            "tags": []
          },
          "execution_count": 5
        }
      ]
    },
    {
      "cell_type": "code",
      "metadata": {
        "id": "Z5i6DHdAiOPq",
        "colab_type": "code",
        "colab": {
          "base_uri": "https://localhost:8080/",
          "height": 204
        },
        "outputId": "52e4fbab-acfb-4d1c-a00c-fe251b3b0ed7"
      },
      "source": [
        "df = df[['kcode', 'latitude', 'longitude']]\n",
        "\n",
        "df.head()"
      ],
      "execution_count": 6,
      "outputs": [
        {
          "output_type": "execute_result",
          "data": {
            "text/html": [
              "<div>\n",
              "<style scoped>\n",
              "    .dataframe tbody tr th:only-of-type {\n",
              "        vertical-align: middle;\n",
              "    }\n",
              "\n",
              "    .dataframe tbody tr th {\n",
              "        vertical-align: top;\n",
              "    }\n",
              "\n",
              "    .dataframe thead th {\n",
              "        text-align: right;\n",
              "    }\n",
              "</style>\n",
              "<table border=\"1\" class=\"dataframe\">\n",
              "  <thead>\n",
              "    <tr style=\"text-align: right;\">\n",
              "      <th></th>\n",
              "      <th>kcode</th>\n",
              "      <th>latitude</th>\n",
              "      <th>longitude</th>\n",
              "    </tr>\n",
              "  </thead>\n",
              "  <tbody>\n",
              "    <tr>\n",
              "      <th>0</th>\n",
              "      <td>klf-2008-0001</td>\n",
              "      <td>-3.524255766</td>\n",
              "      <td>39.87817724</td>\n",
              "    </tr>\n",
              "    <tr>\n",
              "      <th>1</th>\n",
              "      <td>klf-2008-0002</td>\n",
              "      <td>-3.528535743</td>\n",
              "      <td>39.87702892</td>\n",
              "    </tr>\n",
              "    <tr>\n",
              "      <th>2</th>\n",
              "      <td>klf-2008-0003</td>\n",
              "      <td>-3.569655033</td>\n",
              "      <td>39.64606282</td>\n",
              "    </tr>\n",
              "    <tr>\n",
              "      <th>3</th>\n",
              "      <td>klf-2008-0004</td>\n",
              "      <td>-3.607335748</td>\n",
              "      <td>39.64600114</td>\n",
              "    </tr>\n",
              "    <tr>\n",
              "      <th>4</th>\n",
              "      <td>klf-2008-0005</td>\n",
              "      <td>-3.52362521</td>\n",
              "      <td>39.88113789</td>\n",
              "    </tr>\n",
              "  </tbody>\n",
              "</table>\n",
              "</div>"
            ],
            "text/plain": [
              "           kcode      latitude    longitude\n",
              "0  klf-2008-0001  -3.524255766  39.87817724\n",
              "1  klf-2008-0002  -3.528535743  39.87702892\n",
              "2  klf-2008-0003  -3.569655033  39.64606282\n",
              "3  klf-2008-0004  -3.607335748  39.64600114\n",
              "4  klf-2008-0005   -3.52362521  39.88113789"
            ]
          },
          "metadata": {
            "tags": []
          },
          "execution_count": 6
        }
      ]
    },
    {
      "cell_type": "code",
      "metadata": {
        "id": "8IA3rmCOjNd9",
        "colab_type": "code",
        "colab": {
          "base_uri": "https://localhost:8080/",
          "height": 204
        },
        "outputId": "cfb29822-ae41-4aa8-c3fb-007ed09833bc"
      },
      "source": [
        "# convert to correct datatypes\n",
        "df.latitude = pd.to_numeric(df.latitude)\n",
        "df.longitude = pd.to_numeric(df.longitude)\n",
        "\n",
        "df.head()"
      ],
      "execution_count": 7,
      "outputs": [
        {
          "output_type": "execute_result",
          "data": {
            "text/html": [
              "<div>\n",
              "<style scoped>\n",
              "    .dataframe tbody tr th:only-of-type {\n",
              "        vertical-align: middle;\n",
              "    }\n",
              "\n",
              "    .dataframe tbody tr th {\n",
              "        vertical-align: top;\n",
              "    }\n",
              "\n",
              "    .dataframe thead th {\n",
              "        text-align: right;\n",
              "    }\n",
              "</style>\n",
              "<table border=\"1\" class=\"dataframe\">\n",
              "  <thead>\n",
              "    <tr style=\"text-align: right;\">\n",
              "      <th></th>\n",
              "      <th>kcode</th>\n",
              "      <th>latitude</th>\n",
              "      <th>longitude</th>\n",
              "    </tr>\n",
              "  </thead>\n",
              "  <tbody>\n",
              "    <tr>\n",
              "      <th>0</th>\n",
              "      <td>klf-2008-0001</td>\n",
              "      <td>-3.524256</td>\n",
              "      <td>39.878177</td>\n",
              "    </tr>\n",
              "    <tr>\n",
              "      <th>1</th>\n",
              "      <td>klf-2008-0002</td>\n",
              "      <td>-3.528536</td>\n",
              "      <td>39.877029</td>\n",
              "    </tr>\n",
              "    <tr>\n",
              "      <th>2</th>\n",
              "      <td>klf-2008-0003</td>\n",
              "      <td>-3.569655</td>\n",
              "      <td>39.646063</td>\n",
              "    </tr>\n",
              "    <tr>\n",
              "      <th>3</th>\n",
              "      <td>klf-2008-0004</td>\n",
              "      <td>-3.607336</td>\n",
              "      <td>39.646001</td>\n",
              "    </tr>\n",
              "    <tr>\n",
              "      <th>4</th>\n",
              "      <td>klf-2008-0005</td>\n",
              "      <td>-3.523625</td>\n",
              "      <td>39.881138</td>\n",
              "    </tr>\n",
              "  </tbody>\n",
              "</table>\n",
              "</div>"
            ],
            "text/plain": [
              "           kcode  latitude  longitude\n",
              "0  klf-2008-0001 -3.524256  39.878177\n",
              "1  klf-2008-0002 -3.528536  39.877029\n",
              "2  klf-2008-0003 -3.569655  39.646063\n",
              "3  klf-2008-0004 -3.607336  39.646001\n",
              "4  klf-2008-0005 -3.523625  39.881138"
            ]
          },
          "metadata": {
            "tags": []
          },
          "execution_count": 7
        }
      ]
    },
    {
      "cell_type": "code",
      "metadata": {
        "id": "yPZBkno5jd_w",
        "colab_type": "code",
        "colab": {
          "base_uri": "https://localhost:8080/",
          "height": 111
        },
        "outputId": "12be2999-7abd-4163-d7dc-7b1ebd51d0fb"
      },
      "source": [
        "# Import SSOT\n",
        "# Get the google sheet file for jaribuni\n",
        "sh = gc.open('komaza gps cordinates')\n",
        "# Select Spreadsheet\n",
        "# By title\n",
        "worksheet = sh.worksheet('data')\n",
        "data = worksheet.get_all_values()\n",
        "headers = data.pop(0)\n",
        "\n",
        "df_2 = pd.DataFrame(data, columns=headers)\n",
        "\n",
        "# Preview dataframe\n",
        "df_2.head()"
      ],
      "execution_count": 11,
      "outputs": [
        {
          "output_type": "execute_result",
          "data": {
            "text/html": [
              "<div>\n",
              "<style scoped>\n",
              "    .dataframe tbody tr th:only-of-type {\n",
              "        vertical-align: middle;\n",
              "    }\n",
              "\n",
              "    .dataframe tbody tr th {\n",
              "        vertical-align: top;\n",
              "    }\n",
              "\n",
              "    .dataframe thead th {\n",
              "        text-align: right;\n",
              "    }\n",
              "</style>\n",
              "<table border=\"1\" class=\"dataframe\">\n",
              "  <thead>\n",
              "    <tr style=\"text-align: right;\">\n",
              "      <th></th>\n",
              "      <th>name</th>\n",
              "      <th>point</th>\n",
              "      <th>lat</th>\n",
              "      <th>lon</th>\n",
              "      <th>routeXL</th>\n",
              "    </tr>\n",
              "  </thead>\n",
              "  <tbody>\n",
              "    <tr>\n",
              "      <th>0</th>\n",
              "      <td>HQ</td>\n",
              "      <td>-3.62363,39.84417</td>\n",
              "      <td>-3.62363</td>\n",
              "      <td>39.84417</td>\n",
              "      <td>-3.62363,39.84417@HQ@</td>\n",
              "    </tr>\n",
              "    <tr>\n",
              "      <th>1</th>\n",
              "      <td>CCA</td>\n",
              "      <td>-3.6607243,39.826719</td>\n",
              "      <td>-3.6607243</td>\n",
              "      <td>39.826719</td>\n",
              "      <td>-3.6607243,39.826719@CCA@</td>\n",
              "    </tr>\n",
              "  </tbody>\n",
              "</table>\n",
              "</div>"
            ],
            "text/plain": [
              "  name                 point         lat        lon                    routeXL\n",
              "0   HQ     -3.62363,39.84417    -3.62363   39.84417      -3.62363,39.84417@HQ@\n",
              "1  CCA  -3.6607243,39.826719  -3.6607243  39.826719  -3.6607243,39.826719@CCA@"
            ]
          },
          "metadata": {
            "tags": []
          },
          "execution_count": 11
        }
      ]
    },
    {
      "cell_type": "code",
      "metadata": {
        "id": "ARvtP7_YjzwU",
        "colab_type": "code",
        "colab": {}
      },
      "source": [
        "df_2.drop(df_2.index[0], inplace=True)"
      ],
      "execution_count": 12,
      "outputs": []
    },
    {
      "cell_type": "code",
      "metadata": {
        "id": "rHj-nFg1kKr7",
        "colab_type": "code",
        "colab": {
          "base_uri": "https://localhost:8080/",
          "height": 80
        },
        "outputId": "3dbd68c4-41a2-4d88-80c6-c49f9761d7a4"
      },
      "source": [
        "df_2.head()"
      ],
      "execution_count": 13,
      "outputs": [
        {
          "output_type": "execute_result",
          "data": {
            "text/html": [
              "<div>\n",
              "<style scoped>\n",
              "    .dataframe tbody tr th:only-of-type {\n",
              "        vertical-align: middle;\n",
              "    }\n",
              "\n",
              "    .dataframe tbody tr th {\n",
              "        vertical-align: top;\n",
              "    }\n",
              "\n",
              "    .dataframe thead th {\n",
              "        text-align: right;\n",
              "    }\n",
              "</style>\n",
              "<table border=\"1\" class=\"dataframe\">\n",
              "  <thead>\n",
              "    <tr style=\"text-align: right;\">\n",
              "      <th></th>\n",
              "      <th>name</th>\n",
              "      <th>point</th>\n",
              "      <th>lat</th>\n",
              "      <th>lon</th>\n",
              "      <th>routeXL</th>\n",
              "    </tr>\n",
              "  </thead>\n",
              "  <tbody>\n",
              "    <tr>\n",
              "      <th>1</th>\n",
              "      <td>CCA</td>\n",
              "      <td>-3.6607243,39.826719</td>\n",
              "      <td>-3.6607243</td>\n",
              "      <td>39.826719</td>\n",
              "      <td>-3.6607243,39.826719@CCA@</td>\n",
              "    </tr>\n",
              "  </tbody>\n",
              "</table>\n",
              "</div>"
            ],
            "text/plain": [
              "  name                 point         lat        lon                    routeXL\n",
              "1  CCA  -3.6607243,39.826719  -3.6607243  39.826719  -3.6607243,39.826719@CCA@"
            ]
          },
          "metadata": {
            "tags": []
          },
          "execution_count": 13
        }
      ]
    },
    {
      "cell_type": "code",
      "metadata": {
        "id": "cEsynrHQkM_e",
        "colab_type": "code",
        "colab": {}
      },
      "source": [
        "df_2.drop(['point', 'routeXL'], axis=1, inplace=True)"
      ],
      "execution_count": 14,
      "outputs": []
    },
    {
      "cell_type": "code",
      "metadata": {
        "id": "LxrWexOfkkKi",
        "colab_type": "code",
        "colab": {}
      },
      "source": [
        "cols_to_rename = {\n",
        "    'lat': 'latitude',\n",
        "    'lon': 'longitude'\n",
        "}\n",
        "\n",
        "df_2.rename(columns=cols_to_rename, inplace=True)"
      ],
      "execution_count": 15,
      "outputs": []
    },
    {
      "cell_type": "code",
      "metadata": {
        "id": "3QExOu1fkyuQ",
        "colab_type": "code",
        "colab": {
          "base_uri": "https://localhost:8080/",
          "height": 80
        },
        "outputId": "4546b5f6-353a-4650-cba5-c801af4234e4"
      },
      "source": [
        "df_2.head()"
      ],
      "execution_count": 16,
      "outputs": [
        {
          "output_type": "execute_result",
          "data": {
            "text/html": [
              "<div>\n",
              "<style scoped>\n",
              "    .dataframe tbody tr th:only-of-type {\n",
              "        vertical-align: middle;\n",
              "    }\n",
              "\n",
              "    .dataframe tbody tr th {\n",
              "        vertical-align: top;\n",
              "    }\n",
              "\n",
              "    .dataframe thead th {\n",
              "        text-align: right;\n",
              "    }\n",
              "</style>\n",
              "<table border=\"1\" class=\"dataframe\">\n",
              "  <thead>\n",
              "    <tr style=\"text-align: right;\">\n",
              "      <th></th>\n",
              "      <th>name</th>\n",
              "      <th>latitude</th>\n",
              "      <th>longitude</th>\n",
              "    </tr>\n",
              "  </thead>\n",
              "  <tbody>\n",
              "    <tr>\n",
              "      <th>1</th>\n",
              "      <td>CCA</td>\n",
              "      <td>-3.6607243</td>\n",
              "      <td>39.826719</td>\n",
              "    </tr>\n",
              "  </tbody>\n",
              "</table>\n",
              "</div>"
            ],
            "text/plain": [
              "  name    latitude  longitude\n",
              "1  CCA  -3.6607243  39.826719"
            ]
          },
          "metadata": {
            "tags": []
          },
          "execution_count": 16
        }
      ]
    },
    {
      "cell_type": "code",
      "metadata": {
        "id": "st9ywrIfk0GC",
        "colab_type": "code",
        "colab": {}
      },
      "source": [
        "df_2.latitude = pd.to_numeric(df_2.latitude)\n",
        "df_2.longitude = pd.to_numeric(df_2.longitude)"
      ],
      "execution_count": 17,
      "outputs": []
    },
    {
      "cell_type": "code",
      "metadata": {
        "id": "tLi3hF3wk9sT",
        "colab_type": "code",
        "colab": {}
      },
      "source": [
        "# add columns with radians for latitude and longitude\n",
        "df[['latitude_rad','longitude_rad']] = (\n",
        "    np.radians(df.loc[:,['latitude','longitude']])\n",
        ")\n",
        "df_2[['latitude_rad','longitude_rad']] = (\n",
        "    np.radians(df_2.loc[:,['latitude','longitude']])\n",
        ")"
      ],
      "execution_count": 18,
      "outputs": []
    },
    {
      "cell_type": "code",
      "metadata": {
        "id": "ykOpknmxlbgf",
        "colab_type": "code",
        "colab": {
          "base_uri": "https://localhost:8080/",
          "height": 204
        },
        "outputId": "3823e958-ad53-47e1-c5a4-6df0cf1e7717"
      },
      "source": [
        "df.head()"
      ],
      "execution_count": 19,
      "outputs": [
        {
          "output_type": "execute_result",
          "data": {
            "text/html": [
              "<div>\n",
              "<style scoped>\n",
              "    .dataframe tbody tr th:only-of-type {\n",
              "        vertical-align: middle;\n",
              "    }\n",
              "\n",
              "    .dataframe tbody tr th {\n",
              "        vertical-align: top;\n",
              "    }\n",
              "\n",
              "    .dataframe thead th {\n",
              "        text-align: right;\n",
              "    }\n",
              "</style>\n",
              "<table border=\"1\" class=\"dataframe\">\n",
              "  <thead>\n",
              "    <tr style=\"text-align: right;\">\n",
              "      <th></th>\n",
              "      <th>kcode</th>\n",
              "      <th>latitude</th>\n",
              "      <th>longitude</th>\n",
              "      <th>latitude_rad</th>\n",
              "      <th>longitude_rad</th>\n",
              "    </tr>\n",
              "  </thead>\n",
              "  <tbody>\n",
              "    <tr>\n",
              "      <th>0</th>\n",
              "      <td>klf-2008-0001</td>\n",
              "      <td>-3.524256</td>\n",
              "      <td>39.878177</td>\n",
              "      <td>-0.061510</td>\n",
              "      <td>0.696005</td>\n",
              "    </tr>\n",
              "    <tr>\n",
              "      <th>1</th>\n",
              "      <td>klf-2008-0002</td>\n",
              "      <td>-3.528536</td>\n",
              "      <td>39.877029</td>\n",
              "      <td>-0.061585</td>\n",
              "      <td>0.695985</td>\n",
              "    </tr>\n",
              "    <tr>\n",
              "      <th>2</th>\n",
              "      <td>klf-2008-0003</td>\n",
              "      <td>-3.569655</td>\n",
              "      <td>39.646063</td>\n",
              "      <td>-0.062302</td>\n",
              "      <td>0.691954</td>\n",
              "    </tr>\n",
              "    <tr>\n",
              "      <th>3</th>\n",
              "      <td>klf-2008-0004</td>\n",
              "      <td>-3.607336</td>\n",
              "      <td>39.646001</td>\n",
              "      <td>-0.062960</td>\n",
              "      <td>0.691953</td>\n",
              "    </tr>\n",
              "    <tr>\n",
              "      <th>4</th>\n",
              "      <td>klf-2008-0005</td>\n",
              "      <td>-3.523625</td>\n",
              "      <td>39.881138</td>\n",
              "      <td>-0.061499</td>\n",
              "      <td>0.696057</td>\n",
              "    </tr>\n",
              "  </tbody>\n",
              "</table>\n",
              "</div>"
            ],
            "text/plain": [
              "           kcode  latitude  longitude  latitude_rad  longitude_rad\n",
              "0  klf-2008-0001 -3.524256  39.878177     -0.061510       0.696005\n",
              "1  klf-2008-0002 -3.528536  39.877029     -0.061585       0.695985\n",
              "2  klf-2008-0003 -3.569655  39.646063     -0.062302       0.691954\n",
              "3  klf-2008-0004 -3.607336  39.646001     -0.062960       0.691953\n",
              "4  klf-2008-0005 -3.523625  39.881138     -0.061499       0.696057"
            ]
          },
          "metadata": {
            "tags": []
          },
          "execution_count": 19
        }
      ]
    },
    {
      "cell_type": "code",
      "metadata": {
        "id": "8RkfXeAJlc-V",
        "colab_type": "code",
        "colab": {
          "base_uri": "https://localhost:8080/",
          "height": 80
        },
        "outputId": "5f224064-2ef9-4778-a258-22eeb7278da6"
      },
      "source": [
        "df_2.head()"
      ],
      "execution_count": 20,
      "outputs": [
        {
          "output_type": "execute_result",
          "data": {
            "text/html": [
              "<div>\n",
              "<style scoped>\n",
              "    .dataframe tbody tr th:only-of-type {\n",
              "        vertical-align: middle;\n",
              "    }\n",
              "\n",
              "    .dataframe tbody tr th {\n",
              "        vertical-align: top;\n",
              "    }\n",
              "\n",
              "    .dataframe thead th {\n",
              "        text-align: right;\n",
              "    }\n",
              "</style>\n",
              "<table border=\"1\" class=\"dataframe\">\n",
              "  <thead>\n",
              "    <tr style=\"text-align: right;\">\n",
              "      <th></th>\n",
              "      <th>name</th>\n",
              "      <th>latitude</th>\n",
              "      <th>longitude</th>\n",
              "      <th>latitude_rad</th>\n",
              "      <th>longitude_rad</th>\n",
              "    </tr>\n",
              "  </thead>\n",
              "  <tbody>\n",
              "    <tr>\n",
              "      <th>1</th>\n",
              "      <td>CCA</td>\n",
              "      <td>-3.660724</td>\n",
              "      <td>39.826719</td>\n",
              "      <td>-0.063892</td>\n",
              "      <td>0.695107</td>\n",
              "    </tr>\n",
              "  </tbody>\n",
              "</table>\n",
              "</div>"
            ],
            "text/plain": [
              "  name  latitude  longitude  latitude_rad  longitude_rad\n",
              "1  CCA -3.660724  39.826719     -0.063892       0.695107"
            ]
          },
          "metadata": {
            "tags": []
          },
          "execution_count": 20
        }
      ]
    },
    {
      "cell_type": "code",
      "metadata": {
        "id": "ixQ0Um6clf_a",
        "colab_type": "code",
        "colab": {}
      },
      "source": [
        "dist = sklearn.neighbors.DistanceMetric.get_metric('haversine')\n",
        "dist_matrix = (dist.pairwise\n",
        "    (df[['latitude_rad','longitude_rad']],\n",
        "     df_2[['latitude_rad','longitude_rad']])*6371\n",
        ")\n",
        "# Note that 6371 is the radius of the earth in km\n",
        "df_dist_matrix = (\n",
        "    pd.DataFrame(dist_matrix,index=df['kcode'], \n",
        "                 columns=df_2['name'])\n",
        ")"
      ],
      "execution_count": 21,
      "outputs": []
    },
    {
      "cell_type": "code",
      "metadata": {
        "id": "EFpzOnf_mDxj",
        "colab_type": "code",
        "colab": {
          "base_uri": "https://localhost:8080/",
          "height": 235
        },
        "outputId": "6973ab49-85d3-45a2-fafb-3511cb4dd378"
      },
      "source": [
        "df_dist_matrix.head()"
      ],
      "execution_count": 22,
      "outputs": [
        {
          "output_type": "execute_result",
          "data": {
            "text/html": [
              "<div>\n",
              "<style scoped>\n",
              "    .dataframe tbody tr th:only-of-type {\n",
              "        vertical-align: middle;\n",
              "    }\n",
              "\n",
              "    .dataframe tbody tr th {\n",
              "        vertical-align: top;\n",
              "    }\n",
              "\n",
              "    .dataframe thead th {\n",
              "        text-align: right;\n",
              "    }\n",
              "</style>\n",
              "<table border=\"1\" class=\"dataframe\">\n",
              "  <thead>\n",
              "    <tr style=\"text-align: right;\">\n",
              "      <th>name</th>\n",
              "      <th>CCA</th>\n",
              "    </tr>\n",
              "    <tr>\n",
              "      <th>kcode</th>\n",
              "      <th></th>\n",
              "    </tr>\n",
              "  </thead>\n",
              "  <tbody>\n",
              "    <tr>\n",
              "      <th>klf-2008-0001</th>\n",
              "      <td>16.213583</td>\n",
              "    </tr>\n",
              "    <tr>\n",
              "      <th>klf-2008-0002</th>\n",
              "      <td>15.723353</td>\n",
              "    </tr>\n",
              "    <tr>\n",
              "      <th>klf-2008-0003</th>\n",
              "      <td>22.460411</td>\n",
              "    </tr>\n",
              "    <tr>\n",
              "      <th>klf-2008-0004</th>\n",
              "      <td>20.914721</td>\n",
              "    </tr>\n",
              "    <tr>\n",
              "      <th>klf-2008-0005</th>\n",
              "      <td>16.397369</td>\n",
              "    </tr>\n",
              "  </tbody>\n",
              "</table>\n",
              "</div>"
            ],
            "text/plain": [
              "name                 CCA\n",
              "kcode                   \n",
              "klf-2008-0001  16.213583\n",
              "klf-2008-0002  15.723353\n",
              "klf-2008-0003  22.460411\n",
              "klf-2008-0004  20.914721\n",
              "klf-2008-0005  16.397369"
            ]
          },
          "metadata": {
            "tags": []
          },
          "execution_count": 22
        }
      ]
    },
    {
      "cell_type": "code",
      "metadata": {
        "id": "jMcinyXxmHzT",
        "colab_type": "code",
        "colab": {}
      },
      "source": [
        "# Unpivot this dataframe from wide format to long format.\n",
        "# When you unpivot, the data in the pivot table becomes a\n",
        "# column named 'value'. Rename this column to 'miles' for clarity.\n",
        "df_dist_long = (\n",
        "    pd.melt(df_dist_matrix.reset_index(),id_vars='kcode')\n",
        ")\n",
        "df_dist_long = df_dist_long.rename(columns={'value':'km'})"
      ],
      "execution_count": 23,
      "outputs": []
    },
    {
      "cell_type": "code",
      "metadata": {
        "id": "gPd0Giq5mVXQ",
        "colab_type": "code",
        "colab": {
          "base_uri": "https://localhost:8080/",
          "height": 204
        },
        "outputId": "18268a46-ad41-4a66-b47b-a8b82afca88e"
      },
      "source": [
        "df_dist_long.head()"
      ],
      "execution_count": 24,
      "outputs": [
        {
          "output_type": "execute_result",
          "data": {
            "text/html": [
              "<div>\n",
              "<style scoped>\n",
              "    .dataframe tbody tr th:only-of-type {\n",
              "        vertical-align: middle;\n",
              "    }\n",
              "\n",
              "    .dataframe tbody tr th {\n",
              "        vertical-align: top;\n",
              "    }\n",
              "\n",
              "    .dataframe thead th {\n",
              "        text-align: right;\n",
              "    }\n",
              "</style>\n",
              "<table border=\"1\" class=\"dataframe\">\n",
              "  <thead>\n",
              "    <tr style=\"text-align: right;\">\n",
              "      <th></th>\n",
              "      <th>kcode</th>\n",
              "      <th>name</th>\n",
              "      <th>km</th>\n",
              "    </tr>\n",
              "  </thead>\n",
              "  <tbody>\n",
              "    <tr>\n",
              "      <th>0</th>\n",
              "      <td>klf-2008-0001</td>\n",
              "      <td>CCA</td>\n",
              "      <td>16.213583</td>\n",
              "    </tr>\n",
              "    <tr>\n",
              "      <th>1</th>\n",
              "      <td>klf-2008-0002</td>\n",
              "      <td>CCA</td>\n",
              "      <td>15.723353</td>\n",
              "    </tr>\n",
              "    <tr>\n",
              "      <th>2</th>\n",
              "      <td>klf-2008-0003</td>\n",
              "      <td>CCA</td>\n",
              "      <td>22.460411</td>\n",
              "    </tr>\n",
              "    <tr>\n",
              "      <th>3</th>\n",
              "      <td>klf-2008-0004</td>\n",
              "      <td>CCA</td>\n",
              "      <td>20.914721</td>\n",
              "    </tr>\n",
              "    <tr>\n",
              "      <th>4</th>\n",
              "      <td>klf-2008-0005</td>\n",
              "      <td>CCA</td>\n",
              "      <td>16.397369</td>\n",
              "    </tr>\n",
              "  </tbody>\n",
              "</table>\n",
              "</div>"
            ],
            "text/plain": [
              "           kcode name         km\n",
              "0  klf-2008-0001  CCA  16.213583\n",
              "1  klf-2008-0002  CCA  15.723353\n",
              "2  klf-2008-0003  CCA  22.460411\n",
              "3  klf-2008-0004  CCA  20.914721\n",
              "4  klf-2008-0005  CCA  16.397369"
            ]
          },
          "metadata": {
            "tags": []
          },
          "execution_count": 24
        }
      ]
    },
    {
      "cell_type": "code",
      "metadata": {
        "id": "AyBRu-81mXZy",
        "colab_type": "code",
        "colab": {}
      },
      "source": [
        "from google.colab import auth\n",
        "from gspread_dataframe import get_as_dataframe, set_with_dataframe\n",
        "auth.authenticate_user()\n",
        "\n",
        "import gspread\n",
        "from oauth2client.client import GoogleCredentials\n",
        "gc = gspread.authorize(GoogleCredentials.get_application_default())\n",
        "\n",
        "\n",
        "\n",
        "# import gsheet with the data\n",
        "# Spreadsheet ID:1K5p6xrOy8t-v0vfYWDXm9WqIIgdaPtMNLoNjbXFhHk0\n",
        "\n",
        "sh = gc.open('ROUTING DISTANCE ESTIMATE')\n",
        "\n",
        "# Select Spreadsheet\n",
        "# By title\n",
        "worksheet = sh.worksheet('kcode_cca_distance')"
      ],
      "execution_count": 25,
      "outputs": []
    },
    {
      "cell_type": "code",
      "metadata": {
        "id": "RXkE0OyVn36U",
        "colab_type": "code",
        "colab": {}
      },
      "source": [
        "# Append Dataframe to Sheet\n",
        "set_with_dataframe(worksheet, df_dist_long)"
      ],
      "execution_count": 26,
      "outputs": []
    },
    {
      "cell_type": "code",
      "metadata": {
        "id": "LRe6JVh-n_T5",
        "colab_type": "code",
        "colab": {}
      },
      "source": [
        ""
      ],
      "execution_count": null,
      "outputs": []
    }
  ]
}